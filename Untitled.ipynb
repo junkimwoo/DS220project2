{
 "cells": [
  {
   "cell_type": "code",
   "execution_count": 1,
   "id": "1f2e8878-55b1-46bc-9e82-bc727f174fd9",
   "metadata": {
    "tags": []
   },
   "outputs": [
    {
     "data": {
      "text/plain": [
       "'2.0.3'"
      ]
     },
     "execution_count": 1,
     "metadata": {},
     "output_type": "execute_result"
    }
   ],
   "source": [
    "import pandas\n",
    "pandas.__version__"
   ]
  },
  {
   "cell_type": "code",
   "execution_count": 34,
   "id": "e8fed9a6-8c5e-4f05-b403-db952f06d9a5",
   "metadata": {
    "tags": []
   },
   "outputs": [],
   "source": [
    "import numpy as np\n",
    "import matplotlib.pyplot as plt\n",
    "import seaborn as sns"
   ]
  },
  {
   "cell_type": "code",
   "execution_count": 14,
   "id": "d8456338-9ac3-4cb1-8547-9670514a7af6",
   "metadata": {
    "tags": []
   },
   "outputs": [],
   "source": [
    "data=pandas.read_csv(\"C:/Users/Junwoo Kim/Downloads/export.csv\")"
   ]
  },
  {
   "cell_type": "markdown",
   "id": "47a2a95d-fe40-4c78-93a6-747b82e75f14",
   "metadata": {},
   "source": [
    "ABOUT OUR DATA\n",
    "The data we've decided to analyze is the list of novel prize winners with their ID, First name, Last name, date of birth, date of death, country of birth, country of birth(code),City of birth,country of death, country of death(code), City of death, gender, Award date, Award category, motivation, OverallMotivation, Share, name, awarded city, awarded country."
   ]
  },
  {
   "cell_type": "markdown",
   "id": "8dd85c03-9eba-4a12-8aaf-83c707046b45",
   "metadata": {},
   "source": [
    "THE IMPORTANCE OF NOBEL PRIZE\n",
    "The Nobel Prize symbolizes the pinnacle of global recognition for outstanding contributions in fields like science, literature, and peace, reflecting humanity's relentless pursuit of knowledge and the betterment of society."
   ]
  },
  {
   "cell_type": "code",
   "execution_count": 15,
   "id": "fc1b78ff-c6bb-403d-b491-4bc05ff291a4",
   "metadata": {
    "tags": []
   },
   "outputs": [
    {
     "name": "stdout",
     "output_type": "stream",
     "text": [
      "       id       firstname    surname        born        died  \\\n",
      "0       1  Wilhelm Conrad    Röntgen  1845-03-27  1923-02-10   \n",
      "1       2      Hendrik A.    Lorentz  1853-07-18  1928-02-04   \n",
      "2       3          Pieter     Zeeman  1865-05-25  1943-10-09   \n",
      "3       4           Henri  Becquerel  1852-12-15  1908-08-25   \n",
      "4       5          Pierre      Curie  1859-05-15  1906-04-19   \n",
      "..    ...             ...        ...         ...         ...   \n",
      "995  1030           Louis       Brus  1943-00-00  0000-00-00   \n",
      "996  1031         Aleksey    Yekimov  1945-00-00  0000-00-00   \n",
      "997  1032             Jon      Fosse  1959-09-29  0000-00-00   \n",
      "998  1033          Narges  Mohammadi  1972-04-21  0000-00-00   \n",
      "999  1034         Claudia     Goldin  1946-00-00  0000-00-00   \n",
      "\n",
      "               bornCountry bornCountryCode                bornCity  \\\n",
      "0    Prussia (now Germany)              DE  Lennep (now Remscheid)   \n",
      "1          the Netherlands              NL                  Arnhem   \n",
      "2          the Netherlands              NL              Zonnemaire   \n",
      "3                   France              FR                   Paris   \n",
      "4                   France              FR                   Paris   \n",
      "..                     ...             ...                     ...   \n",
      "995                    USA              US            Cleveland OH   \n",
      "996      USSR (now Russia)              RU                     NaN   \n",
      "997                 Norway              NO               Haugesund   \n",
      "998                   Iran              IR                  Zanjan   \n",
      "999                    USA              US             New York NY   \n",
      "\n",
      "         diedCountry diedCountryCode   diedCity  gender  year    category  \\\n",
      "0            Germany              DE     Munich    male  1901     physics   \n",
      "1    the Netherlands              NL        NaN    male  1902     physics   \n",
      "2    the Netherlands              NL  Amsterdam    male  1902     physics   \n",
      "3             France              FR        NaN    male  1903     physics   \n",
      "4             France              FR      Paris    male  1903     physics   \n",
      "..               ...             ...        ...     ...   ...         ...   \n",
      "995              NaN             NaN        NaN    male  2023   chemistry   \n",
      "996              NaN             NaN        NaN    male  2023   chemistry   \n",
      "997              NaN             NaN        NaN    male  2023  literature   \n",
      "998              NaN             NaN        NaN  female  2023       peace   \n",
      "999              NaN             NaN        NaN  female  2023   economics   \n",
      "\n",
      "    overallMotivation  share  \\\n",
      "0                 NaN      1   \n",
      "1                 NaN      2   \n",
      "2                 NaN      2   \n",
      "3                 NaN      2   \n",
      "4                 NaN      4   \n",
      "..                ...    ...   \n",
      "995               NaN      3   \n",
      "996               NaN      3   \n",
      "997               NaN      1   \n",
      "998               NaN      1   \n",
      "999               NaN      1   \n",
      "\n",
      "                                            motivation  \\\n",
      "0    \"in recognition of the extraordinary services ...   \n",
      "1    \"in recognition of the extraordinary service t...   \n",
      "2    \"in recognition of the extraordinary service t...   \n",
      "3    \"in recognition of the extraordinary services ...   \n",
      "4    \"in recognition of the extraordinary services ...   \n",
      "..                                                 ...   \n",
      "995  \"for the discovery and synthesis of quantum dots\"   \n",
      "996  \"for the discovery and synthesis of quantum dots\"   \n",
      "997  \"for his innovative plays and prose which give...   \n",
      "998  \"for her fight against the oppression of women...   \n",
      "999  \"for having advanced our understanding of wome...   \n",
      "\n",
      "                                                  name          city  \\\n",
      "0                                    Munich University        Munich   \n",
      "1                                    Leiden University        Leiden   \n",
      "2                                 Amsterdam University     Amsterdam   \n",
      "3                                  École Polytechnique         Paris   \n",
      "4    École municipale de physique et de chimie indu...         Paris   \n",
      "..                                                 ...           ...   \n",
      "995                                Columbia University   New York NY   \n",
      "996                       Nanocrystals Technology Inc.   New York NY   \n",
      "997                                                NaN           NaN   \n",
      "998                                                NaN           NaN   \n",
      "999                                 Harvard University  Cambridge MA   \n",
      "\n",
      "             country  \n",
      "0            Germany  \n",
      "1    the Netherlands  \n",
      "2    the Netherlands  \n",
      "3             France  \n",
      "4             France  \n",
      "..               ...  \n",
      "995              USA  \n",
      "996              USA  \n",
      "997              NaN  \n",
      "998              NaN  \n",
      "999              USA  \n",
      "\n",
      "[1000 rows x 20 columns]\n"
     ]
    }
   ],
   "source": [
    "print(data)"
   ]
  },
  {
   "cell_type": "markdown",
   "id": "9cfff0f2-366e-452d-aacc-2fbae60f1e6e",
   "metadata": {},
   "source": [
    "1. Count of Laureates Born in France:\n",
    "\n",
    "This question deals with the geographical origins of laureates, specifically focusing on France, a country known for its historical contributions to science and arts. Understanding the number of laureates from France can reveal the country's impact on the fields represented by the Nobel prizes."
   ]
  },
  {
   "cell_type": "code",
   "execution_count": 19,
   "id": "b6276156-9c7d-474b-93ab-4e8d6428e336",
   "metadata": {
    "tags": []
   },
   "outputs": [
    {
     "data": {
      "text/plain": [
       "58"
      ]
     },
     "execution_count": 19,
     "metadata": {},
     "output_type": "execute_result"
    }
   ],
   "source": [
    "data[data['bornCountry'] == 'France'].shape[0]"
   ]
  },
  {
   "cell_type": "markdown",
   "id": "45fb3034-f9f1-4014-9024-9dba334e417e",
   "metadata": {},
   "source": [
    "The output of this code '58' shows the number of laureates focusing on France. This proves that France has produced numerous Sientists and Scholars worthy enough for the novel prize."
   ]
  },
  {
   "cell_type": "markdown",
   "id": "908de603-4584-4c94-9af3-b686dc80a928",
   "metadata": {},
   "source": [
    "2. Average Share of the Nobel Prize Per Category:\n",
    "\n",
    "The Nobel Prize is often shared among multiple recipients. Analyzing the average share per category can provide insights into collaborative trends within different fields (like Physics, Chemistry, Peace, etc.) and how they have evolved over time."
   ]
  },
  {
   "cell_type": "code",
   "execution_count": 20,
   "id": "b10394cd-610f-40c4-8dad-9045af1ae62d",
   "metadata": {
    "tags": []
   },
   "outputs": [
    {
     "data": {
      "text/plain": [
       "category\n",
       "chemistry     2.134021\n",
       "economics     2.021505\n",
       "literature    1.066667\n",
       "medicine      2.374449\n",
       "peace         1.567376\n",
       "physics       2.386667\n",
       "Name: share, dtype: float64"
      ]
     },
     "execution_count": 20,
     "metadata": {},
     "output_type": "execute_result"
    }
   ],
   "source": [
    "data.groupby('category')['share'].mean()"
   ]
  },
  {
   "cell_type": "markdown",
   "id": "38284598-7c00-4a06-af3d-8951bb00f920",
   "metadata": {},
   "source": [
    "The output of this code shows us the average share of the Nobel Prize by Category. From the result, we can assume that physics tend to have the largest number of average shared laureates compared to other categories."
   ]
  },
  {
   "cell_type": "markdown",
   "id": "b312fd8c-22ce-4d43-8f79-6d91a242b10c",
   "metadata": {},
   "source": [
    "3. Count of Female Laureates:\n",
    "\n",
    "This question addresses gender representation among Nobel laureates. Given historical gender imbalances in many fields, understanding the number of female recipients can shed light on progress and disadvantages in recognition."
   ]
  },
  {
   "cell_type": "code",
   "execution_count": 21,
   "id": "8f2983da-98df-4dd6-baed-4b943bb43333",
   "metadata": {
    "tags": []
   },
   "outputs": [
    {
     "data": {
      "text/plain": [
       "65"
      ]
     },
     "execution_count": 21,
     "metadata": {},
     "output_type": "execute_result"
    }
   ],
   "source": [
    "data[data['gender'] == 'female'].shape[0]"
   ]
  },
  {
   "cell_type": "markdown",
   "id": "eb9b151a-9f7b-488a-967e-45fc9ba8f5ba",
   "metadata": {},
   "source": [
    "Gender Distribution of Nobel Laureates:\n",
    "\n",
    "This bar chart displays the gender breakdown of Nobel laureates. It's a direct way to observe gender representation among the laureates."
   ]
  },
  {
   "cell_type": "code",
   "execution_count": 36,
   "id": "d7bf0910-5452-49d4-977f-e4f35f4dd7fd",
   "metadata": {
    "tags": []
   },
   "outputs": [
    {
     "data": {
      "image/png": "[encoded data removed]",
      "text/plain": [
       "<Figure size 600x400 with 1 Axes>"
      ]
     },
     "metadata": {},
     "output_type": "display_data"
    }
   ],
   "source": [
    "plt.figure(figsize=(6, 4))\n",
    "sns.countplot(x='gender', data=data)\n",
    "plt.title('Gender Distribution of Nobel Laureates')\n",
    "plt.xlabel('Gender')\n",
    "plt.ylabel('Count')\n",
    "plt.show()"
   ]
  },
  {
   "cell_type": "markdown",
   "id": "c8009d1d-67f7-4482-a0f3-a7a34d08fc6c",
   "metadata": {},
   "source": [
    "From the output of the codes of #3 and the bar graph, we can see that the number of female laureates are significantly lower than those of male laureates. From this result, we can asssume that there were disadvantages and imbalance toward female throughout history of Nobel prize."
   ]
  },
  {
   "cell_type": "markdown",
   "id": "879d8900-f02d-4263-a5c8-6ef044a84262",
   "metadata": {},
   "source": [
    "4. City with Most Nobel Laureates:\n",
    "\n",
    "Identifying the city that has produced the most laureates can reveal important centers of education, research, and cultural development, highlighting regions that have historically prodeuced Nobel-worthy work."
   ]
  },
  {
   "cell_type": "code",
   "execution_count": 22,
   "id": "e1d87113-4b65-42ea-84cf-3e5fe2834141",
   "metadata": {
    "tags": []
   },
   "outputs": [
    {
     "data": {
      "text/plain": [
       "'New York NY'"
      ]
     },
     "execution_count": 22,
     "metadata": {},
     "output_type": "execute_result"
    }
   ],
   "source": [
    "data['bornCity'].value_counts().idxmax()"
   ]
  },
  {
   "cell_type": "markdown",
   "id": "627d583d-758b-4d20-8cff-0a1eea7220c5",
   "metadata": {},
   "source": [
    "The output of the code tells us that the City with most Nobel Laureates is New York City. From this, we can assume that New York is advanced in terms of science and academics. "
   ]
  },
  {
   "cell_type": "markdown",
   "id": "16eae5e7-32b2-436d-b3cc-63c20df0a772",
   "metadata": {},
   "source": [
    "5. Top 5 Countries by Number of Laureates Born There:\n",
    "\n",
    "This question gives a broader geographical perspective, helping to identify which countries have been most influential in terms of producing Nobel laureates. It can indicate the global distribution of talent and resources contributing to notable achievements."
   ]
  },
  {
   "cell_type": "code",
   "execution_count": 26,
   "id": "09e467ca-f1dd-4718-9bc6-92c1c58ce7c7",
   "metadata": {
    "tags": []
   },
   "outputs": [
    {
     "data": {
      "text/plain": [
       "bornCountry\n",
       "USA               292\n",
       "United Kingdom     90\n",
       "Germany            67\n",
       "France             58\n",
       "Sweden             30\n",
       "Name: count, dtype: int64"
      ]
     },
     "execution_count": 26,
     "metadata": {},
     "output_type": "execute_result"
    }
   ],
   "source": [
    "data['bornCountry'].value_counts().head(5)\n"
   ]
  },
  {
   "cell_type": "markdown",
   "id": "8bcaa158-a022-435c-8b91-463d61584276",
   "metadata": {},
   "source": [
    "Top 10 Countries with Most Nobel Laureates:\n",
    "\n",
    "The bar chart shows the top 10 countries with the highest number of Nobel laureates. This gives a sense of which countries have been most influential in terms of producing recognized talents. We increased the number of countries from 5 to 10 to make data visualization easier for the audience."
   ]
  },
  {
   "cell_type": "code",
   "execution_count": 37,
   "id": "5b7af130-e0a2-4653-9113-2ac60cbbdd00",
   "metadata": {
    "tags": []
   },
   "outputs": [
    {
     "data": {
      "image/png": "[encoded data removed]",
      "text/plain": [
       "<Figure size 1000x600 with 1 Axes>"
      ]
     },
     "metadata": {},
     "output_type": "display_data"
    }
   ],
   "source": [
    "top_countries = data['bornCountry'].value_counts().head(10)\n",
    "plt.figure(figsize=(10, 6))\n",
    "top_countries.plot(kind='bar')\n",
    "plt.title('Top 10 Countries with Most Nobel Laureates')\n",
    "plt.xlabel('Country')\n",
    "plt.ylabel('Number of Laureates')\n",
    "plt.xticks(rotation=45)\n",
    "plt.show()"
   ]
  },
  {
   "cell_type": "markdown",
   "id": "405b8a9f-e4ee-4094-8dcf-3c0e1b57edfe",
   "metadata": {},
   "source": [
    "From the output of #5 and the bar graph, we can see that the US has the most number of Nobel Laureates. We can assume that the US is the most advanced country in terms of Human Resources, Science, and education."
   ]
  },
  {
   "cell_type": "markdown",
   "id": "5061b21c-62ab-440d-8837-2ae87ba76c93",
   "metadata": {},
   "source": [
    "6. Count of Laureates with a Share of 1 in the Nobel Prize:\n",
    "\n",
    "Investigating the number of laureates who received an undivided Nobel Prize can show us instances where an individual's contribution was so significant that it warranted sole recognition."
   ]
  },
  {
   "cell_type": "code",
   "execution_count": 27,
   "id": "0b149772-fe6a-4c47-94d9-90c3bd41fd82",
   "metadata": {
    "tags": []
   },
   "outputs": [
    {
     "data": {
      "text/plain": [
       "358"
      ]
     },
     "execution_count": 27,
     "metadata": {},
     "output_type": "execute_result"
    }
   ],
   "source": [
    "data[data['share'] == 1].shape[0]"
   ]
  },
  {
   "cell_type": "markdown",
   "id": "aa124b43-d1e4-44e4-9a3d-92a0a739db07",
   "metadata": {},
   "source": [
    "7. Count of Laureates Who Died in Their Birth Country:\n",
    "\n",
    "This question can provide insights into migration patterns and the movement of award recipants across borders. It might also reflect on the historical and political contexts that influenced laureates' lives.\n"
   ]
  },
  {
   "cell_type": "code",
   "execution_count": 29,
   "id": "fe6f7498-c42e-4e5f-a916-98b5e62dd805",
   "metadata": {
    "tags": []
   },
   "outputs": [
    {
     "data": {
      "text/plain": [
       "398"
      ]
     },
     "execution_count": 29,
     "metadata": {},
     "output_type": "execute_result"
    }
   ],
   "source": [
    "data[data['bornCountry'] == data['diedCountry']].shape[0]\n"
   ]
  },
  {
   "cell_type": "markdown",
   "id": "7dcd7314-fff9-4784-aa38-8196e45e80bd",
   "metadata": {},
   "source": [
    "8. Distribution of Nobel Prize Categories:\n",
    "\n",
    "Understanding the distribution of categories in the dataset can offer a perspective on the areas where human endeavors have been most recognized by the Nobel committee, showing trends and shifts in global priorities and advancements over time."
   ]
  },
  {
   "cell_type": "code",
   "execution_count": 30,
   "id": "eb23222a-a9dd-4532-94a3-72c590bb3827",
   "metadata": {
    "tags": []
   },
   "outputs": [
    {
     "data": {
      "text/plain": [
       "category\n",
       "medicine      227\n",
       "physics       225\n",
       "chemistry     194\n",
       "peace         141\n",
       "literature    120\n",
       "economics      93\n",
       "Name: count, dtype: int64"
      ]
     },
     "execution_count": 30,
     "metadata": {},
     "output_type": "execute_result"
    }
   ],
   "source": [
    "data['category'].value_counts()"
   ]
  },
  {
   "cell_type": "markdown",
   "id": "0ffa2c5a-102e-44fc-b34d-82f163029620",
   "metadata": {},
   "source": [
    "Bar Chart for #8\n",
    "\n",
    "This bar chart shows the count of Nobel Prizes awarded in each category. It helps to understand which fields have been more frequently recognized by the Nobel committee."
   ]
  },
  {
   "cell_type": "code",
   "execution_count": 35,
   "id": "de9bbe4f-725f-4599-8002-8b2ea09d640e",
   "metadata": {
    "tags": []
   },
   "outputs": [
    {
     "data": {
      "image/png": "[encoded data removed]",
      "text/plain": [
       "<Figure size 1000x600 with 1 Axes>"
      ]
     },
     "metadata": {},
     "output_type": "display_data"
    }
   ],
   "source": [
    "plt.figure(figsize=(10, 6))\n",
    "sns.countplot(y='category', data=data, order=data['category'].value_counts().index)\n",
    "plt.title('Distribution of Nobel Prizes by Category')\n",
    "plt.xlabel('Count')\n",
    "plt.ylabel('Category')\n",
    "plt.show()"
   ]
  },
  {
   "cell_type": "code",
   "execution_count": null,
   "id": "52c59244-c582-4e95-98e0-1c1c144faf3b",
   "metadata": {},
   "outputs": [],
   "source": []
  }
 ],
 "metadata": {
  "kernelspec": {
   "display_name": "Python 3 (ipykernel)",
   "language": "python",
   "name": "python3"
  },
  "language_info": {
   "codemirror_mode": {
    "name": "ipython",
    "version": 3
   },
   "file_extension": ".py",
   "mimetype": "text/x-python",
   "name": "python",
   "nbconvert_exporter": "python",
   "pygments_lexer": "ipython3",
   "version": "3.11.5"
  }
 },
 "nbformat": 4,
 "nbformat_minor": 5
}
